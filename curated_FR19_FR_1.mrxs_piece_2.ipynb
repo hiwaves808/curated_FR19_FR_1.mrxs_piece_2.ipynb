{
 "cells": [
  {
   "cell_type": "code",
   "execution_count": null,
   "id": "02fa82a7",
   "metadata": {},
   "outputs": [],
   "source": [
    "from PIL import Image\n",
    "import os, sys\n",
    "import numpy as np\n",
    "from PIL import Image, ImageDraw\n",
    "\n",
    "img = Image.open('FR19_FR_1.mrxs_piece_2.tif')\n",
    "\n",
    "img.show()"
   ]
  },
  {
   "cell_type": "code",
   "execution_count": 37,
   "id": "6a9a12ff",
   "metadata": {},
   "outputs": [
    {
     "name": "stdout",
     "output_type": "stream",
     "text": [
      "(78, 19)\n"
     ]
    }
   ],
   "source": [
    "print(img.size)"
   ]
  },
  {
   "cell_type": "code",
   "execution_count": 38,
   "id": "d5ea5ce2",
   "metadata": {},
   "outputs": [
    {
     "name": "stdout",
     "output_type": "stream",
     "text": [
      "TIFF (78, 19) RGB\n"
     ]
    }
   ],
   "source": [
    "print(img.format, img.size, img.mode)"
   ]
  },
  {
   "cell_type": "code",
   "execution_count": 16,
   "id": "daaa1b50",
   "metadata": {},
   "outputs": [],
   "source": [
    "\n",
    "# Importing ImageDraw for\n",
    "# using floodfill function\n",
    "from PIL import Image, ImageDraw\n",
    "\n",
    "  \n",
    "# Location of seed\n",
    "seed = (0, 0)\n",
    "  \n",
    "# Pixel Value which would\n",
    "# be used for replacement\n",
    "rep_value = (255, 255, 255, 255)\n",
    "  \n",
    "# Calling the floodfill() function and\n",
    "# passing it image, seed, value and\n",
    "# thresh as arguments\n",
    "ImageDraw.floodfill(img, seed, rep_value, thresh = 100)\n",
    "  \n",
    "img.show()"
   ]
  },
  {
   "cell_type": "code",
   "execution_count": 39,
   "id": "1025c31d",
   "metadata": {},
   "outputs": [],
   "source": [
    "with Image.open('FR19_FR_1.mrxs_piece_2.tif') as image:\n",
    "    width, height = image.size"
   ]
  },
  {
   "cell_type": "code",
   "execution_count": 40,
   "id": "1748ef0c",
   "metadata": {},
   "outputs": [],
   "source": [
    "def main():\n",
    "    try:\n",
    "        #Relative Path\n",
    "        img = Image.open('FR19_FR_1.mrxs_piece_2.tif')\n",
    "        width, height = img.size\n",
    "          \n",
    "        area = (0, 0, width/2, height/1)\n",
    "        img = img.crop(area)\n",
    "          \n",
    "        #Saved in the same relative location\n",
    "        img.save('curated_FR19_FR_1.mrxs_piece_2.tif') \n",
    "          \n",
    "    except IOError:\n",
    "        pass\n",
    "  \n",
    "if __name__ == \"__main__\":\n",
    "    main()"
   ]
  },
  {
   "cell_type": "code",
   "execution_count": 41,
   "id": "9d35e01c",
   "metadata": {},
   "outputs": [],
   "source": [
    "image = Image.open('curated_FR19_FR_1.mrxs_piece_2.tif')"
   ]
  },
  {
   "cell_type": "code",
   "execution_count": 42,
   "id": "09d781f4",
   "metadata": {},
   "outputs": [],
   "source": [
    "image.show()"
   ]
  }
 ],
 "metadata": {
  "kernelspec": {
   "display_name": "Python 3.10.4 ('circe')",
   "language": "python",
   "name": "python3"
  },
  "language_info": {
   "codemirror_mode": {
    "name": "ipython",
    "version": 3
   },
   "file_extension": ".py",
   "mimetype": "text/x-python",
   "name": "python",
   "nbconvert_exporter": "python",
   "pygments_lexer": "ipython3",
   "version": "3.10.4"
  },
  "vscode": {
   "interpreter": {
    "hash": "70a4c5e81d9117246c12d9681eddfcc3aaec6004891a749ea0fac32ebdb96735"
   }
  }
 },
 "nbformat": 4,
 "nbformat_minor": 5
}
